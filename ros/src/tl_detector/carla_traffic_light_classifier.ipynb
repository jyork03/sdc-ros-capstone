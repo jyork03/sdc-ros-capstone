{
 "cells": [
  {
   "cell_type": "code",
   "execution_count": 1,
   "metadata": {},
   "outputs": [
    {
     "name": "stderr",
     "output_type": "stream",
     "text": [
      "Using TensorFlow backend.\n"
     ]
    },
    {
     "name": "stdout",
     "output_type": "stream",
     "text": [
      "1.3.0\n"
     ]
    }
   ],
   "source": [
    "import tensorflow as tf\n",
    "import keras\n",
    "from keras import backend as K\n",
    "import matplotlib.pyplot as plt\n",
    "import numpy as np\n",
    "import glob\n",
    "import cv2\n",
    "from sklearn.model_selection import train_test_split\n",
    "import re\n",
    "import os\n",
    "import time\n",
    "from nn_helpers import get_labeled_images, freeze_session, load_graph, one_hot_encode\n",
    "\n",
    "print(tf.__version__)"
   ]
  },
  {
   "cell_type": "code",
   "execution_count": 2,
   "metadata": {},
   "outputs": [
    {
     "name": "stdout",
     "output_type": "stream",
     "text": [
      "((181, 75, 100, 3), (181, 3))\n",
      "((46, 75, 100, 3), (46, 3))\n"
     ]
    }
   ],
   "source": [
    "X_train, X_test, y_train, y_test = get_labeled_images('dataset_site/all/*.jpg')\n",
    "one_hot_test = one_hot_encode(y_test)\n",
    "one_hot_train = one_hot_encode(y_train)\n",
    "X_train = np.array(X_train)\n",
    "X_test = np.array(X_test)\n",
    "    \n",
    "print(X_train.shape, one_hot_train.shape)\n",
    "print(X_test.shape, one_hot_test.shape)\n",
    "\n",
    "img = np.expand_dims(X_test[0],0)"
   ]
  },
  {
   "cell_type": "code",
   "execution_count": null,
   "metadata": {},
   "outputs": [],
   "source": []
  },
  {
   "cell_type": "code",
   "execution_count": 3,
   "metadata": {},
   "outputs": [
    {
     "name": "stdout",
     "output_type": "stream",
     "text": [
      "_________________________________________________________________\n",
      "Layer (type)                 Output Shape              Param #   \n",
      "=================================================================\n",
      "conv2d_1 (Conv2D)            (None, 75, 100, 16)       448       \n",
      "_________________________________________________________________\n",
      "max_pooling2d_1 (MaxPooling2 (None, 37, 50, 16)        0         \n",
      "_________________________________________________________________\n",
      "conv2d_2 (Conv2D)            (None, 37, 50, 32)        4640      \n",
      "_________________________________________________________________\n",
      "max_pooling2d_2 (MaxPooling2 (None, 18, 25, 32)        0         \n",
      "_________________________________________________________________\n",
      "conv2d_3 (Conv2D)            (None, 18, 25, 64)        18496     \n",
      "_________________________________________________________________\n",
      "max_pooling2d_3 (MaxPooling2 (None, 9, 12, 64)         0         \n",
      "_________________________________________________________________\n",
      "dropout_1 (Dropout)          (None, 9, 12, 64)         0         \n",
      "_________________________________________________________________\n",
      "flatten_1 (Flatten)          (None, 6912)              0         \n",
      "_________________________________________________________________\n",
      "dense_1 (Dense)              (None, 128)               884864    \n",
      "_________________________________________________________________\n",
      "dropout_2 (Dropout)          (None, 128)               0         \n",
      "_________________________________________________________________\n",
      "dense_2 (Dense)              (None, 3)                 387       \n",
      "=================================================================\n",
      "Total params: 908,835\n",
      "Trainable params: 908,835\n",
      "Non-trainable params: 0\n",
      "_________________________________________________________________\n"
     ]
    }
   ],
   "source": [
    "K.set_learning_phase(0)\n",
    "K.clear_session()\n",
    "model = keras.models.load_model('./carla_traffic_light_classifier.h5')\n",
    "model.summary()"
   ]
  },
  {
   "cell_type": "code",
   "execution_count": 4,
   "metadata": {},
   "outputs": [
    {
     "name": "stdout",
     "output_type": "stream",
     "text": [
      "0.013s\n",
      "Predictions: 0\n"
     ]
    }
   ],
   "source": [
    "start = time.time()\n",
    "predictions = model.predict(img)\n",
    "print(\"%.2gs\" % (time.time() - start))\n",
    "print(\"Predictions: {}\".format(np.argmax(predictions[0])))"
   ]
  },
  {
   "cell_type": "code",
   "execution_count": 5,
   "metadata": {},
   "outputs": [
    {
     "name": "stdout",
     "output_type": "stream",
     "text": [
      "\r",
      "32/46 [===================>..........] - ETA: 0s"
     ]
    },
    {
     "data": {
      "text/plain": [
       "[0.0076310647773030014, 1.0]"
      ]
     },
     "execution_count": 5,
     "metadata": {},
     "output_type": "execute_result"
    }
   ],
   "source": [
    "model.evaluate(X_test, one_hot_test)"
   ]
  },
  {
   "cell_type": "code",
   "execution_count": 6,
   "metadata": {},
   "outputs": [
    {
     "name": "stdout",
     "output_type": "stream",
     "text": [
      "INFO:tensorflow:Froze 35 variables.\n",
      "Converted 35 variables to const ops.\n"
     ]
    },
    {
     "data": {
      "text/plain": [
       "'./carla_traffic_light_classifier.pb'"
      ]
     },
     "execution_count": 6,
     "metadata": {},
     "output_type": "execute_result"
    }
   ],
   "source": [
    "frozen_graph = freeze_session(K.get_session(), output_names=[out.op.name for out in model.outputs])\n",
    "tf.train.write_graph(frozen_graph, './', 'carla_traffic_light_classifier.pbtxt', as_text=True)\n",
    "tf.train.write_graph(frozen_graph, './', 'carla_traffic_light_classifier.pb', as_text=False)"
   ]
  },
  {
   "cell_type": "code",
   "execution_count": 7,
   "metadata": {},
   "outputs": [],
   "source": [
    "graph = load_graph('carla_traffic_light_classifier.pb')"
   ]
  },
  {
   "cell_type": "code",
   "execution_count": 8,
   "metadata": {},
   "outputs": [
    {
     "name": "stdout",
     "output_type": "stream",
     "text": [
      "prefix/keras_learning_phase\n",
      "prefix/conv2d_1_input\n",
      "prefix/conv2d_1/kernel\n",
      "prefix/conv2d_1/kernel/read\n",
      "prefix/conv2d_1/bias\n",
      "prefix/conv2d_1/bias/read\n",
      "prefix/conv2d_1/convolution\n",
      "prefix/conv2d_1/BiasAdd\n",
      "prefix/conv2d_1/Relu\n",
      "prefix/max_pooling2d_1/MaxPool\n",
      "prefix/conv2d_2/kernel\n",
      "prefix/conv2d_2/kernel/read\n",
      "prefix/conv2d_2/bias\n",
      "prefix/conv2d_2/bias/read\n",
      "prefix/conv2d_2/convolution\n",
      "prefix/conv2d_2/BiasAdd\n",
      "prefix/conv2d_2/Relu\n",
      "prefix/max_pooling2d_2/MaxPool\n",
      "prefix/conv2d_3/kernel\n",
      "prefix/conv2d_3/kernel/read\n",
      "prefix/conv2d_3/bias\n",
      "prefix/conv2d_3/bias/read\n",
      "prefix/conv2d_3/convolution\n",
      "prefix/conv2d_3/BiasAdd\n",
      "prefix/conv2d_3/Relu\n",
      "prefix/max_pooling2d_3/MaxPool\n",
      "prefix/dropout_1/cond/Switch\n",
      "prefix/dropout_1/cond/switch_t\n",
      "prefix/dropout_1/cond/pred_id\n",
      "prefix/dropout_1/cond/mul/y\n",
      "prefix/dropout_1/cond/mul/Switch\n",
      "prefix/dropout_1/cond/mul\n",
      "prefix/dropout_1/cond/dropout/keep_prob\n",
      "prefix/dropout_1/cond/dropout/Shape\n",
      "prefix/dropout_1/cond/dropout/random_uniform/min\n",
      "prefix/dropout_1/cond/dropout/random_uniform/max\n",
      "prefix/dropout_1/cond/dropout/random_uniform/RandomUniform\n",
      "prefix/dropout_1/cond/dropout/random_uniform/sub\n",
      "prefix/dropout_1/cond/dropout/random_uniform/mul\n",
      "prefix/dropout_1/cond/dropout/random_uniform\n",
      "prefix/dropout_1/cond/dropout/add\n",
      "prefix/dropout_1/cond/dropout/Floor\n",
      "prefix/dropout_1/cond/dropout/div\n",
      "prefix/dropout_1/cond/dropout/mul\n",
      "prefix/dropout_1/cond/Switch_1\n",
      "prefix/dropout_1/cond/Merge\n",
      "prefix/flatten_1/Shape\n",
      "prefix/flatten_1/strided_slice/stack\n",
      "prefix/flatten_1/strided_slice/stack_1\n",
      "prefix/flatten_1/strided_slice/stack_2\n",
      "prefix/flatten_1/strided_slice\n",
      "prefix/flatten_1/Const\n",
      "prefix/flatten_1/Prod\n",
      "prefix/flatten_1/stack/0\n",
      "prefix/flatten_1/stack\n",
      "prefix/flatten_1/Reshape\n",
      "prefix/dense_1/kernel\n",
      "prefix/dense_1/kernel/read\n",
      "prefix/dense_1/bias\n",
      "prefix/dense_1/bias/read\n",
      "prefix/dense_1/MatMul\n",
      "prefix/dense_1/BiasAdd\n",
      "prefix/dense_1/Relu\n",
      "prefix/dropout_2/cond/Switch\n",
      "prefix/dropout_2/cond/switch_t\n",
      "prefix/dropout_2/cond/pred_id\n",
      "prefix/dropout_2/cond/mul/y\n",
      "prefix/dropout_2/cond/mul/Switch\n",
      "prefix/dropout_2/cond/mul\n",
      "prefix/dropout_2/cond/dropout/keep_prob\n",
      "prefix/dropout_2/cond/dropout/Shape\n",
      "prefix/dropout_2/cond/dropout/random_uniform/min\n",
      "prefix/dropout_2/cond/dropout/random_uniform/max\n",
      "prefix/dropout_2/cond/dropout/random_uniform/RandomUniform\n",
      "prefix/dropout_2/cond/dropout/random_uniform/sub\n",
      "prefix/dropout_2/cond/dropout/random_uniform/mul\n",
      "prefix/dropout_2/cond/dropout/random_uniform\n",
      "prefix/dropout_2/cond/dropout/add\n",
      "prefix/dropout_2/cond/dropout/Floor\n",
      "prefix/dropout_2/cond/dropout/div\n",
      "prefix/dropout_2/cond/dropout/mul\n",
      "prefix/dropout_2/cond/Switch_1\n",
      "prefix/dropout_2/cond/Merge\n",
      "prefix/dense_2/kernel\n",
      "prefix/dense_2/kernel/read\n",
      "prefix/dense_2/bias\n",
      "prefix/dense_2/bias/read\n",
      "prefix/dense_2/MatMul\n",
      "prefix/dense_2/BiasAdd\n",
      "prefix/dense_2/Softmax\n",
      "prefix/Adam/iterations\n",
      "prefix/Adam/lr\n",
      "prefix/Adam/beta_1\n",
      "prefix/Adam/beta_2\n",
      "prefix/Adam/decay\n",
      "prefix/training/Adam/Variable\n",
      "prefix/training/Adam/Variable_1\n",
      "prefix/training/Adam/Variable_2\n",
      "prefix/training/Adam/Variable_3\n",
      "prefix/training/Adam/Variable_4\n",
      "prefix/training/Adam/Variable_5\n",
      "prefix/training/Adam/Variable_6\n",
      "prefix/training/Adam/Variable_7\n",
      "prefix/training/Adam/Variable_8\n",
      "prefix/training/Adam/Variable_9\n",
      "prefix/training/Adam/Variable_10\n",
      "prefix/training/Adam/Variable_11\n",
      "prefix/training/Adam/Variable_12\n",
      "prefix/training/Adam/Variable_13\n",
      "prefix/training/Adam/Variable_14\n",
      "prefix/training/Adam/Variable_15\n",
      "prefix/training/Adam/Variable_16\n",
      "prefix/training/Adam/Variable_17\n",
      "prefix/training/Adam/Variable_18\n",
      "prefix/training/Adam/Variable_19\n"
     ]
    }
   ],
   "source": [
    "for op in graph.get_operations():\n",
    "    print(op.name)"
   ]
  },
  {
   "cell_type": "code",
   "execution_count": 9,
   "metadata": {},
   "outputs": [
    {
     "name": "stdout",
     "output_type": "stream",
     "text": [
      "<tensorflow.python.framework.ops.Graph object at 0x7f0e6075ba90>\n"
     ]
    }
   ],
   "source": [
    "print(graph)"
   ]
  },
  {
   "cell_type": "code",
   "execution_count": 10,
   "metadata": {},
   "outputs": [],
   "source": [
    "# We access the input and output nodes \n",
    "x = graph.get_tensor_by_name('prefix/conv2d_1_input:0')\n",
    "y = graph.get_tensor_by_name('prefix/dense_2/Softmax:0')\n",
    "lf = graph.get_tensor_by_name('prefix/keras_learning_phase:0')\n",
    "img = np.expand_dims(X_test[0],0)"
   ]
  },
  {
   "cell_type": "code",
   "execution_count": 11,
   "metadata": {},
   "outputs": [
    {
     "name": "stdout",
     "output_type": "stream",
     "text": [
      "(0, 0)\n"
     ]
    }
   ],
   "source": [
    "with tf.Session(graph=graph) as sess:\n",
    "    y_out = sess.run(y, feed_dict={x: img, lf: 0})\n",
    "    \n",
    "    print(np.argmax(y_out), y_test[0])"
   ]
  },
  {
   "cell_type": "code",
   "execution_count": 12,
   "metadata": {},
   "outputs": [],
   "source": [
    "# from tensorflow.python.framework.graph_util import load_graph"
   ]
  },
  {
   "cell_type": "code",
   "execution_count": null,
   "metadata": {},
   "outputs": [],
   "source": []
  }
 ],
 "metadata": {
  "kernelspec": {
   "display_name": "Python 2",
   "language": "python",
   "name": "python2"
  },
  "language_info": {
   "codemirror_mode": {
    "name": "ipython",
    "version": 2
   },
   "file_extension": ".py",
   "mimetype": "text/x-python",
   "name": "python",
   "nbconvert_exporter": "python",
   "pygments_lexer": "ipython2",
   "version": "2.7.15"
  }
 },
 "nbformat": 4,
 "nbformat_minor": 2
}
